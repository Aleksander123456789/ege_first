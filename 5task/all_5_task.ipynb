{
 "cells": [
  {
   "cell_type": "code",
   "execution_count": 11,
   "metadata": {},
   "outputs": [
    {
     "name": "stdout",
     "output_type": "stream",
     "text": [
      "1001\n"
     ]
    }
   ],
   "source": [
    "#48453\n",
    "for n in range(2, 10000):\n",
    "    s = bin(n)[2:]\n",
    "    s_new = ''\n",
    "    for i in s:\n",
    "        if i == '0':\n",
    "            s_new += '1'\n",
    "        else:\n",
    "            s_new += '0'\n",
    "    \n",
    "    s_new.lstrip('0')\n",
    "    r = int(s_new, 2)\n",
    "    if n - r == 979:\n",
    "        print(n)\n",
    "        break"
   ]
  },
  {
   "cell_type": "code",
   "execution_count": 14,
   "metadata": {},
   "outputs": [
    {
     "name": "stdout",
     "output_type": "stream",
     "text": [
      "237\n"
     ]
    }
   ],
   "source": [
    "#9756\n",
    "for n in range(100, 1000):\n",
    "    s = str(n)\n",
    "    first = int(s[0]) * int(s[1])\n",
    "    second = int(s[1]) * int(s[2])\n",
    "    s_new = str(min(first, second)) + str(max(first, second))\n",
    "    if s_new == '621':\n",
    "        print(n)\n",
    "        break\n",
    "    \n"
   ]
  },
  {
   "cell_type": "code",
   "execution_count": 15,
   "metadata": {},
   "outputs": [
    {
     "name": "stdout",
     "output_type": "stream",
     "text": [
      "111\n"
     ]
    }
   ],
   "source": [
    "#15943\n",
    "for n in range(1000):\n",
    "    s = bin(n)[2:]\n",
    "    s += s[-1]\n",
    "    number = str(s.count('1') % 2)\n",
    "    s += number\n",
    "    r = int(s, 2)\n",
    "    if r > 105:\n",
    "        print(r)\n",
    "        break\n"
   ]
  },
  {
   "cell_type": "code",
   "execution_count": 17,
   "metadata": {},
   "outputs": [
    {
     "name": "stdout",
     "output_type": "stream",
     "text": [
      "395\n"
     ]
    }
   ],
   "source": [
    "#7663\n",
    "for n in range(100, 1000):\n",
    "    s = str(n)\n",
    "    first = int(s[0]) + int(s[1])\n",
    "    second = int(s[1]) + int(s[2])\n",
    "    s_new = str(max(first, second)) + str(min(first, second))\n",
    "    if s_new == '1412':\n",
    "        print(n)\n",
    "        break\n"
   ]
  },
  {
   "cell_type": "code",
   "execution_count": null,
   "metadata": {},
   "outputs": [],
   "source": [
    "#63054\n",
    "for n in range(1000):\n",
    "    s = bin(n)[2:]\n",
    "    s += bin(n % 4)[2:]\n",
    "    r = int(s, 2)\n",
    "    if \n",
    "#в душе не ебу как такое делать"
   ]
  },
  {
   "cell_type": "code",
   "execution_count": 28,
   "metadata": {},
   "outputs": [
    {
     "name": "stdout",
     "output_type": "stream",
     "text": [
      "296\n"
     ]
    }
   ],
   "source": [
    "#7917\n",
    "for n in range(100, 1000):\n",
    "    s = str(n)\n",
    "    first = int(s[0]) + int(s[1])\n",
    "    second = int(s[1]) + int(s[2])\n",
    "    s_new = str(min(first, second)) + str(max(first, second))\n",
    "    if s_new == '1115':\n",
    "        print(n)\n",
    "        break\n",
    "    "
   ]
  },
  {
   "cell_type": "code",
   "execution_count": 27,
   "metadata": {},
   "outputs": [
    {
     "name": "stdout",
     "output_type": "stream",
     "text": [
      "47\n"
     ]
    }
   ],
   "source": [
    "#45239\n",
    "for n in range(1000):\n",
    "    s = bin(n)[2:]\n",
    "    if int(s) % 2 == 0:\n",
    "        s += '10'\n",
    "    else:\n",
    "        s = '1' + s + '01'\n",
    "    if int(s, 2) > 441:\n",
    "        print(n)\n",
    "        break\n"
   ]
  },
  {
   "cell_type": "code",
   "execution_count": 26,
   "metadata": {},
   "outputs": [
    {
     "name": "stdout",
     "output_type": "stream",
     "text": [
      "1067\n"
     ]
    }
   ],
   "source": [
    "#14767\n",
    "for n in range(1000, 10000):\n",
    "    s = str(n)\n",
    "    first = int(s[0]) + int(s[1])\n",
    "    second = int(s[1]) + int(s[2])\n",
    "    third = int(s[2]) + int(s[3])\n",
    "    data = [first, second, third]\n",
    "    data.sort()\n",
    "    s_new = (str(data[1])) + str(data[2])\n",
    "    if s_new == '613':\n",
    "        print(n)\n",
    "        break"
   ]
  },
  {
   "cell_type": "code",
   "execution_count": 25,
   "metadata": {},
   "outputs": [
    {
     "name": "stdout",
     "output_type": "stream",
     "text": [
      "1599\n"
     ]
    }
   ],
   "source": [
    "#11235\n",
    "for n in range(1000, 10000):\n",
    "    s = str(n)\n",
    "    first = int(s[0]) + int(s[1])\n",
    "    second = int(s[1]) + int(s[2])\n",
    "    third = int(s[2]) + int(s[3])\n",
    "    data = [first, second, third]\n",
    "    data.sort()\n",
    "    s_new = (str(data[1])) + str(data[2])\n",
    "    if s_new == '1418':\n",
    "        print(n)\n",
    "        break"
   ]
  },
  {
   "cell_type": "code",
   "execution_count": 20,
   "metadata": {},
   "outputs": [
    {
     "name": "stdout",
     "output_type": "stream",
     "text": [
      "102\n"
     ]
    }
   ],
   "source": [
    "#15791\n",
    "for n in range(1000):\n",
    "    s = bin(n)[2:]\n",
    "    s += str(s.count('1') % 2)\n",
    "    s += str(s.count('1') % 2)\n",
    "    r = int(s, 2)\n",
    "    if r > 97:\n",
    "        print(r)\n",
    "        break"
   ]
  }
 ],
 "metadata": {
  "kernelspec": {
   "display_name": "Python 3",
   "language": "python",
   "name": "python3"
  },
  "language_info": {
   "codemirror_mode": {
    "name": "ipython",
    "version": 3
   },
   "file_extension": ".py",
   "mimetype": "text/x-python",
   "name": "python",
   "nbconvert_exporter": "python",
   "pygments_lexer": "ipython3",
   "version": "3.10.7"
  }
 },
 "nbformat": 4,
 "nbformat_minor": 2
}
